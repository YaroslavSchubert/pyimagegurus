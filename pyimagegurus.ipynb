{
 "cells": [
  {
   "cell_type": "code",
   "execution_count": 2,
   "metadata": {
    "collapsed": false
   },
   "outputs": [
    {
     "name": "stderr",
     "output_type": "stream",
     "text": [
      "/home/crimzoid/anaconda/lib/python2.7/site-packages/matplotlib/__init__.py:872: UserWarning: axes.color_cycle is deprecated and replaced with axes.prop_cycle; please use the latter.\n",
      "  warnings.warn(self.msg_depr % (key, alt_key))\n"
     ]
    }
   ],
   "source": [
    "import matplotlib\n",
    "import skimage\n",
    "import cv2\n",
    "import numpy as np\n",
    "import pandas as pd\n",
    "from matplotlib import pyplot as plt\n",
    "import seaborn\n",
    "%matplotlib inline\n"
   ]
  },
  {
   "cell_type": "code",
   "execution_count": 1,
   "metadata": {
    "collapsed": false
   },
   "outputs": [
    {
     "name": "stdout",
     "output_type": "stream",
     "text": [
      "Reinitialized existing Git repository in /home/crimzoid/googledrive/Projects/pyimagegurus/.git/\n"
     ]
    }
   ],
   "source": [
    "# %%bash\n",
    "# git init\n",
    "# git config --global user.name i008\n",
    "# git config --global user.email kubacieslik@gmail.com"
   ]
  },
  {
   "cell_type": "code",
   "execution_count": 1,
   "metadata": {
    "collapsed": false
   },
   "outputs": [],
   "source": [
    "# !git add . \n",
    "# !git commit -a -m \"init\"\n",
    "# !git remote add origin ssh://github.com/i008/pyimagegurus.git\n",
    "# !git push origin master "
   ]
  },
  {
   "cell_type": "markdown",
   "metadata": {},
   "source": [
    "## 1.1"
   ]
  },
  {
   "cell_type": "code",
   "execution_count": 15,
   "metadata": {
    "collapsed": false
   },
   "outputs": [
    {
     "name": "stdout",
     "output_type": "stream",
     "text": [
      "Overwriting load_display_save.py\n"
     ]
    }
   ],
   "source": [
    "%%writefile load_display_save.py\n",
    "\n",
    "import argparse\n",
    "import cv2\n",
    "ap = argparse.ArgumentParser()\n",
    "ap.add_argument(\"-i\", \"--image\", required=True, help='Path to the image')\n",
    "args = vars(ap.parse_args())\n",
    "image = cv2.imread(args['image'])\n",
    "print \"width: %d pixels\" %(image.shape[1])\n",
    "print \"height: %d pixels\" %(image.shape[0])\n",
    "print \"channels: %d\" %(image.shape[2])\n",
    "\n",
    "cv2.imshow(\"Image\", image)\n",
    "cv2.waitKey(0)\n",
    "\n",
    "# cv2.imwrite('data/new.jpg', image)\n",
    "\n",
    "\n"
   ]
  },
  {
   "cell_type": "code",
   "execution_count": 12,
   "metadata": {
    "collapsed": false
   },
   "outputs": [
    {
     "name": "stdout",
     "output_type": "stream",
     "text": [
      "width: 600 pixels\n",
      "height: 450 pixels\n",
      "channels: 3\n"
     ]
    }
   ],
   "source": [
    "%%bash\n",
    "\n",
    "python load_display_save.py -i \"data/florida_trip.png\""
   ]
  },
  {
   "cell_type": "code",
   "execution_count": 16,
   "metadata": {
    "collapsed": false,
    "scrolled": true
   },
   "outputs": [
    {
     "name": "stdout",
     "output_type": "stream",
     "text": [
      "width: 600 pixels\n",
      "height: 399 pixels\n",
      "channels: 3\n"
     ]
    }
   ],
   "source": [
    "%%bash\n",
    "\n",
    "python load_display_save.py -i \"data/grand_canyon.png\""
   ]
  },
  {
   "cell_type": "markdown",
   "metadata": {},
   "source": [
    "### QUIZ 1.1"
   ]
  },
  {
   "cell_type": "code",
   "execution_count": 4,
   "metadata": {
    "collapsed": false
   },
   "outputs": [
    {
     "data": {
      "text/plain": [
       "(300, 400, 3)"
      ]
     },
     "execution_count": 4,
     "metadata": {},
     "output_type": "execute_result"
    }
   ],
   "source": [
    "gir = cv2.imread('data/giraffe.png')\n",
    "gir.shape"
   ]
  },
  {
   "cell_type": "markdown",
   "metadata": {},
   "source": [
    "## ------"
   ]
  },
  {
   "cell_type": "markdown",
   "metadata": {},
   "source": [
    "## 1.2"
   ]
  },
  {
   "cell_type": "markdown",
   "metadata": {},
   "source": [
    "Black:  (0, 0, 0)  \n",
    "White:  (255, 255, 255)  \n",
    "Red:  (255, 0, 0)  \n",
    "Green:  (0, 255, 0)  \n",
    "Blue:  (0, 0, 255)  \n",
    "Aqua:  (0, 255, 255)  \n",
    "Fuchsia:  (255, 0, 255)  \n",
    "Maroon:  (128, 0, 0)  \n",
    "Navy:  (0, 0, 128)  \n",
    "Olive:  (128, 128, 0)  \n",
    "Purple:  (128, 0, 128)  \n",
    "Teal:  (0, 128, 128)  \n",
    "Yellow:  (255, 255, 0)  "
   ]
  },
  {
   "cell_type": "code",
   "execution_count": 3,
   "metadata": {
    "collapsed": true
   },
   "outputs": [
    {
     "data": {
      "text/html": [
       "<img src='https://gurus.pyimagesearch.com/wp-content/uploads/2015/03/image_grid.png'>"
      ],
      "text/plain": [
       "<IPython.core.display.HTML object>"
      ]
     },
     "metadata": {},
     "output_type": "display_data"
    }
   ],
   "source": [
    "%%HTML\n",
    "<img src='https://gurus.pyimagesearch.com/wp-content/uploads/2015/03/image_grid.png'>"
   ]
  },
  {
   "cell_type": "code",
   "execution_count": 42,
   "metadata": {
    "collapsed": false
   },
   "outputs": [
    {
     "name": "stdout",
     "output_type": "stream",
     "text": [
      "Overwriting getting_and_setting.py\n"
     ]
    }
   ],
   "source": [
    "%%writefile getting_and_setting.py\n",
    "import argparse\n",
    "import cv2\n",
    "\n",
    "ap = argparse.ArgumentParser()\n",
    "ap.add_argument('-i','--image',required=True, help='Path to image')\n",
    "ap.add_argument('-d','--display', required=False)\n",
    "args = vars(ap.parse_args())\n",
    "\n",
    "image = cv2.imread(args[\"image\"])\n",
    "(h, w) = image.shape[:2]\n",
    "if args['display']:\n",
    "    cv2.imshow(\"Original\", image)\n",
    "    cv2.waitKey(0)\n",
    "\n",
    "(b, g, r) = image[0, 0]\n",
    "print \"Pixel at (0,0) - Red: {r}, Green: {g}, Blue: {b}\".format(r=r, g=g, b=b)\n",
    "\n",
    "#setting pixel value to RED\n",
    "image[0,0] = (0, 0, 255)\n",
    "(b, g, r) = image[0, 0]\n",
    "print \"Pixel at (0,0) - Red: {r}, Green: {g}, Blue: {b}\".format(r=r, g=g, b=b)\n",
    "\n",
    "\n",
    "#center of the image\n",
    "(cX, cY) = (w/2, h/2)\n",
    "tl = image[0:cY, 0:cX]\n",
    "tr = image[cY:h, cX:w]\n",
    "bl = image[cY:h, 0:cX]\n",
    "tl_green = image[0:cY, 0:cX] = (0, 255, 0)\n",
    "\n",
    "\n",
    "# cv2.imshow(\"\",tr)\n",
    "# cv2.waitKey()\n",
    "# cv2.imshow(\"\",bl)\n",
    "# cv2.waitKey()\n",
    "# cv2.imshow(\"\",tl_green)\n",
    "# cv2.waitKey()\n",
    "# cv2.imshow(\"top left\", tl)\n",
    "# cv2.waitKey()\n"
   ]
  },
  {
   "cell_type": "code",
   "execution_count": 43,
   "metadata": {
    "collapsed": false
   },
   "outputs": [
    {
     "name": "stdout",
     "output_type": "stream",
     "text": [
      "Pixel at (0,0) - Red: 233, Green: 240, Blue: 246\n",
      "Pixel at (0,0) - Red: 255, Green: 0, Blue: 0\n"
     ]
    }
   ],
   "source": [
    "%%bash\n",
    "python getting_and_setting.py -i 'data/florida_trip.png' \n"
   ]
  },
  {
   "cell_type": "markdown",
   "metadata": {},
   "source": [
    "## /\\/\\/\\/\\/\\/\\"
   ]
  },
  {
   "cell_type": "markdown",
   "metadata": {},
   "source": [
    "## 1.3) DRAWING \n",
    "\n"
   ]
  },
  {
   "cell_type": "code",
   "execution_count": 28,
   "metadata": {
    "collapsed": false
   },
   "outputs": [],
   "source": [
    "canvas = np.zeros((300, 300, 3), dtype=\"uint8\")\n",
    "# rows / columns / channels\n",
    "# uint8 = 8bits depth"
   ]
  },
  {
   "cell_type": "code",
   "execution_count": 7,
   "metadata": {
    "collapsed": false
   },
   "outputs": [
    {
     "data": {
      "text/plain": [
       "<matplotlib.image.AxesImage at 0x7f8f56354310>"
      ]
     },
     "execution_count": 7,
     "metadata": {},
     "output_type": "execute_result"
    },
    {
     "data": {
      "image/png": "[encoded data removed]",
      "text/plain": [
       "<matplotlib.figure.Figure at 0x7f8f9c0a81d0>"
      ]
     },
     "metadata": {},
     "output_type": "display_data"
    }
   ],
   "source": [
    "plt.imshow(canvas)"
   ]
  },
  {
   "cell_type": "code",
   "execution_count": 29,
   "metadata": {
    "collapsed": false
   },
   "outputs": [
    {
     "data": {
      "text/plain": [
       "<matplotlib.image.AxesImage at 0x7f8f5150f290>"
      ]
     },
     "execution_count": 29,
     "metadata": {},
     "output_type": "execute_result"
    },
    {
     "data": {
      "image/png": "[encoded data removed]",
      "text/plain": [
       "<matplotlib.figure.Figure at 0x7f8f51600610>"
      ]
     },
     "metadata": {},
     "output_type": "display_data"
    }
   ],
   "source": [
    "green = (0, 255, 0)\n",
    "cv2.line(canvas, (0, 0), (300, 300), green)\n",
    "plt.imshow(canvas)"
   ]
  },
  {
   "cell_type": "code",
   "execution_count": 30,
   "metadata": {
    "collapsed": true
   },
   "outputs": [],
   "source": [
    "red = (0, 255, 255)\n",
    "cv2.line(canvas, (300, 0), (0, 300), red, 3)"
   ]
  },
  {
   "cell_type": "code",
   "execution_count": 18,
   "metadata": {
    "collapsed": false
   },
   "outputs": [
    {
     "data": {
      "text/plain": [
       "<matplotlib.image.AxesImage at 0x7f8f518d3690>"
      ]
     },
     "execution_count": 18,
     "metadata": {},
     "output_type": "execute_result"
    },
    {
     "data": {
      "image/png": "[encoded data removed]",
      "text/plain": [
       "<matplotlib.figure.Figure at 0x7f8f51928bd0>"
      ]
     },
     "metadata": {},
     "output_type": "display_data"
    }
   ],
   "source": [
    "plt.imshow(canvas)"
   ]
  },
  {
   "cell_type": "code",
   "execution_count": 31,
   "metadata": {
    "collapsed": true
   },
   "outputs": [],
   "source": [
    "cv2.rectangle(canvas, (10, 10), (60, 60), green)\n",
    "blue = (255, 0, 0)\n",
    "cv2.rectangle(canvas, (50, 200), (200, 225), red, 5)\n",
    "cv2.rectangle(canvas, (200, 50), (225, 125), blue, -1)"
   ]
  },
  {
   "cell_type": "code",
   "execution_count": 32,
   "metadata": {
    "collapsed": false
   },
   "outputs": [
    {
     "data": {
      "text/plain": [
       "<matplotlib.image.AxesImage at 0x7f8f51448b50>"
      ]
     },
     "execution_count": 32,
     "metadata": {},
     "output_type": "execute_result"
    },
    {
     "data": {
      "image/png": "[encoded data removed]",
      "text/plain": [
       "<matplotlib.figure.Figure at 0x7f8f514a18d0>"
      ]
     },
     "metadata": {},
     "output_type": "display_data"
    }
   ],
   "source": [
    "plt.imshow(canvas)"
   ]
  },
  {
   "cell_type": "code",
   "execution_count": null,
   "metadata": {
    "collapsed": true
   },
   "outputs": [],
   "source": []
  }
 ],
 "metadata": {
  "kernelspec": {
   "display_name": "Python 2",
   "language": "python",
   "name": "python2"
  },
  "language_info": {
   "codemirror_mode": {
    "name": "ipython",
    "version": 2
   },
   "file_extension": ".py",
   "mimetype": "text/x-python",
   "name": "python",
   "nbconvert_exporter": "python",
   "pygments_lexer": "ipython2",
   "version": "2.7.11"
  }
 },
 "nbformat": 4,
 "nbformat_minor": 0
}
