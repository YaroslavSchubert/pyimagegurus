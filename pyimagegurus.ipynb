{
 "cells": [
  {
   "cell_type": "code",
   "execution_count": 1,
   "metadata": {
    "collapsed": true
   },
   "outputs": [],
   "source": [
    "import matplotlib\n",
    "import skimage\n",
    "import cv2\n",
    "import numpy as np\n",
    "import pandas as pd\n",
    "%matplotlib inline\n"
   ]
  },
  {
   "cell_type": "code",
   "execution_count": 19,
   "metadata": {
    "collapsed": false
   },
   "outputs": [
    {
     "name": "stdout",
     "output_type": "stream",
     "text": [
      "Reinitialized existing Git repository in /home/crimzoid/googledrive/Projects/pyimagegurus/.git/\n"
     ]
    }
   ],
   "source": [
    "%%bash\n",
    "git init\n",
    "git config --global user.name \"i008\"\n",
    "git config --global user.email \"kubacieslik@gmail.com\""
   ]
  },
  {
   "cell_type": "code",
   "execution_count": 23,
   "metadata": {
    "collapsed": false
   },
   "outputs": [
    {
     "name": "stdout",
     "output_type": "stream",
     "text": [
      "On branch master\n",
      "nothing to commit, working directory clean\n",
      "error: unknown switch `a'\n",
      "usage: git push [<options>] [<repository> [<refspec>...]]\n",
      "\n",
      "    -v, --verbose         be more verbose\n",
      "    -q, --quiet           be more quiet\n",
      "    --repo <repository>   repository\n",
      "    --all                 push all refs\n",
      "    --mirror              mirror all refs\n",
      "    --delete              delete refs\n",
      "    --tags                push tags (can't be used with --all or --mirror)\n",
      "    -n, --dry-run         dry run\n",
      "    --porcelain           machine-readable output\n",
      "    -f, --force           force updates\n",
      "    --force-with-lease[=<refname>:<expect>]\n",
      "                          require old value of ref to be at this value\n",
      "    --recurse-submodules[=<check>]\n",
      "                          control recursive pushing of submodules\n",
      "    --thin                use thin pack\n",
      "    --receive-pack <receive-pack>\n",
      "                          receive pack program\n",
      "    --exec <receive-pack>\n",
      "                          receive pack program\n",
      "    -u, --set-upstream    set upstream for git pull/status\n",
      "    --progress            force progress reporting\n",
      "    --prune               prune locally removed refs\n",
      "    --no-verify           bypass pre-push hook\n",
      "    --follow-tags         push missing but relevant tags\n",
      "\n"
     ]
    }
   ],
   "source": [
    "!git add . \n",
    "!git commit -a -m \"init\"\n",
    "!git push origin -a https://github.com/i008/pyimagegurus.git"
   ]
  },
  {
   "cell_type": "markdown",
   "metadata": {},
   "source": [
    "## 1.1"
   ]
  },
  {
   "cell_type": "code",
   "execution_count": 15,
   "metadata": {
    "collapsed": false
   },
   "outputs": [
    {
     "name": "stdout",
     "output_type": "stream",
     "text": [
      "Overwriting load_display_save.py\n"
     ]
    }
   ],
   "source": [
    "%%writefile load_display_save.py\n",
    "\n",
    "import argparse\n",
    "import cv2\n",
    "ap = argparse.ArgumentParser()\n",
    "ap.add_argument(\"-i\", \"--image\", required=True, help='Path to the image')\n",
    "args = vars(ap.parse_args())\n",
    "image = cv2.imread(args['image'])\n",
    "print \"width: %d pixels\" %(image.shape[1])\n",
    "print \"height: %d pixels\" %(image.shape[0])\n",
    "print \"channels: %d\" %(image.shape[2])\n",
    "\n",
    "cv2.imshow(\"Image\", image)\n",
    "cv2.waitKey(0)\n",
    "\n",
    "# cv2.imwrite('data/new.jpg', image)\n",
    "\n",
    "\n"
   ]
  },
  {
   "cell_type": "code",
   "execution_count": 12,
   "metadata": {
    "collapsed": false
   },
   "outputs": [
    {
     "name": "stdout",
     "output_type": "stream",
     "text": [
      "width: 600 pixels\n",
      "height: 450 pixels\n",
      "channels: 3\n"
     ]
    }
   ],
   "source": [
    "%%bash\n",
    "\n",
    "python load_display_save.py -i \"data/florida_trip.png\""
   ]
  },
  {
   "cell_type": "code",
   "execution_count": 16,
   "metadata": {
    "collapsed": false
   },
   "outputs": [
    {
     "name": "stdout",
     "output_type": "stream",
     "text": [
      "width: 600 pixels\n",
      "height: 399 pixels\n",
      "channels: 3\n"
     ]
    }
   ],
   "source": [
    "%%bash\n",
    "\n",
    "python load_display_save.py -i \"data/grand_canyon.png\""
   ]
  },
  {
   "cell_type": "markdown",
   "metadata": {},
   "source": [
    "## ------"
   ]
  },
  {
   "cell_type": "markdown",
   "metadata": {},
   "source": [
    "## 1.2"
   ]
  },
  {
   "cell_type": "code",
   "execution_count": null,
   "metadata": {
    "collapsed": true
   },
   "outputs": [],
   "source": []
  }
 ],
 "metadata": {
  "kernelspec": {
   "display_name": "Python 2",
   "language": "python",
   "name": "python2"
  },
  "language_info": {
   "codemirror_mode": {
    "name": "ipython",
    "version": 2
   },
   "file_extension": ".py",
   "mimetype": "text/x-python",
   "name": "python",
   "nbconvert_exporter": "python",
   "pygments_lexer": "ipython2",
   "version": "2.7.11"
  }
 },
 "nbformat": 4,
 "nbformat_minor": 0
}
