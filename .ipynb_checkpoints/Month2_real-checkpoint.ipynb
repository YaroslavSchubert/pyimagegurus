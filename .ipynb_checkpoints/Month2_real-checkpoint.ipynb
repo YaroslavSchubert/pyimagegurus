{
 "cells": [
  {
   "cell_type": "code",
   "execution_count": 13,
   "metadata": {
    "collapsed": true
   },
   "outputs": [],
   "source": [
    "# MONTH 2\n",
    "from sklearn import datasets\n",
    "import pandas as pd\n",
    "import cv2\n",
    "import matplotlib.pyplot as plt\n",
    "%matplotlib inline\n",
    "import imutils\n",
    "import argparse\n",
    "import uuid\n",
    "import cv2\n",
    "from sklearn.metrics.pairwise import pairwise_distances\n",
    "import numpy as np\n",
    "import argparse\n",
    "import glob\n",
    "import mahotas\n",
    "from scipy.spatial import distance as dist\n",
    "import numpy as np\n",
    "import mahotas\n",
    "import cv2\n",
    "from sklearn.neighbors import KNeighborsClassifier\n",
    "from skimage import exposure\n",
    "from skimage import feature\n",
    "from imutils import paths\n",
    "import argparse\n",
    "import imutils\n",
    "import cv2\n",
    "from __future__ import print_function\n",
    "from sklearn.cross_validation import train_test_split\n",
    "from sklearn.neighbors import KNeighborsClassifier\n",
    "from sklearn.metrics import classification_report\n",
    "from sklearn import datasets\n",
    "from skimage import exposure\n",
    "import numpy as np\n",
    "import imutils\n",
    "import cv2"
   ]
  },
  {
   "cell_type": "markdown",
   "metadata": {},
   "source": [
    "# [super] Building Your Own Custom Object Detector\n",
    "\n",
    "\n",
    "# 2.1 What are object detectors [theory]"
   ]
  },
  {
   "cell_type": "markdown",
   "metadata": {},
   "source": [
    "# 2.1.1 An itroduction to object detection [theory]"
   ]
  },
  {
   "cell_type": "markdown",
   "metadata": {},
   "source": [
    "# 2.1.2 Template matching "
   ]
  },
  {
   "cell_type": "code",
   "execution_count": null,
   "metadata": {
    "collapsed": true
   },
   "outputs": [],
   "source": [
    "# load the source and template image\n",
    "source = cv2.imread('data/source_01.jpg')\n",
    "template = cv2.imread('data/template.jpg')\n",
    "source = cv2.imread('data/source_wally.png')\n",
    "template = cv2.imread('data/template_wally.png')\n",
    "\n",
    "(tempH, tempW) = template.shape[:2]\n",
    " \n",
    "# find the template in the source image\n",
    "result = cv2.matchTemplate(source, template, cv2.TM_CCOEFF)\n",
    "(minVal, maxVal, minLoc, (x, y)) = cv2.minMaxLoc(result)"
   ]
  },
  {
   "cell_type": "code",
   "execution_count": null,
   "metadata": {
    "collapsed": true
   },
   "outputs": [],
   "source": [
    "cv2.rectangle(source, (x, y), (x + tempW, y + tempH), (0, 255, 255), 20)\n",
    "plt.figure(figsize=(20,20))\n",
    "plt.imshow(source)\n",
    "plt.figure()\n",
    "plt.imshow(template)"
   ]
  },
  {
   "cell_type": "code",
   "execution_count": null,
   "metadata": {
    "collapsed": true
   },
   "outputs": [],
   "source": [
    "# import the necessary packages\n",
    "\n",
    "# import the necessary packages\n",
    "from __future__ import print_function\n",
    "from imutils import paths\n",
    "from scipy.io import loadmat\n",
    "from skimage import io\n",
    "import argparse\n",
    "import dlib\n",
    "\n",
    " \n",
    "    \n",
    "# # construct the argument parse and parse the arguments\n",
    "# ap = argparse.ArgumentParser()\n",
    "# ap.add_argument(\"-c\", \"--class\", required=True,\n",
    "#     help=\"Path to the CALTECH-101 class images\")\n",
    "# ap.add_argument(\"-a\", \"--annotations\", required=True,\n",
    "#     help=\"Path to the CALTECH-101 class annotations\")\n",
    "# ap.add_argument(\"-o\", \"--output\", required=True,\n",
    "#     help=\"Path to the output detector\")\n",
    "# args = vars(ap.parse_args())\n",
    "\n",
    "args = {}\n",
    "args['class'] = 'data/stop_sign_images/'\n",
    "args['output'] = 'data/stop_sign_detector_output.svm'\n",
    "args['annotations'] = 'data/stop_sign_annotations/'\n",
    "\n",
    "\n",
    "args['class'] = 'data/sunflowers/sunflower_images/'\n",
    "args['output'] = 'data/stop_sign_detector_output.svm'\n",
    "args['annotations'] = 'data/sunflowers/sunflower_annotations/'\n",
    "\n",
    "\n",
    "# grab the default training options for our HOG + Linear SVM detector, then initialize the\n",
    "# list of images and bounding boxes used to train the classifier\n",
    "print(\"[INFO] gathering images and bounding boxes...\")\n",
    "options = dlib.simple_object_detector_training_options()\n",
    "images = []\n",
    "boxes = []\n",
    " \n",
    "# loop over the image paths\n",
    "for imagePath in paths.list_images(args[\"class\"]):\n",
    "    # extract the image ID from the image path and load the annotations file\n",
    "    imageID = imagePath[imagePath.rfind(\"/\") + 1:].split(\"_\")[1]\n",
    "    imageID = imageID.replace(\".jpg\", \"\")\n",
    "    p = \"{}/annotation_{}.mat\".format(args[\"annotations\"], imageID)\n",
    "    annotations = loadmat(p)[\"box_coord\"]\n",
    "\n",
    "    # loop over the annotations and add each annotation to the list of bounding\n",
    "    # boxes\n",
    "    bb = [dlib.rectangle(left=long(x), top=long(y), right=long(w), bottom=long(h))\n",
    "            for (y, h, x, w) in annotations]\n",
    "    boxes.append(bb)\n",
    "\n",
    "    # add the image to the list of images\n",
    "    images.append(io.imread(imagePath))\n",
    "    \n",
    "# train the object detector\n",
    "print(\"[INFO] training detector...\")\n",
    "detector = dlib.train_simple_object_detector(images, boxes, options)\n",
    " \n",
    "# dump the classifier to file\n",
    "print(\"[INFO] dumping classifier to file...\")\n",
    "detector.save(args[\"output\"])\n",
    " \n",
    "# visualize the results of the detector\n",
    "# win = dlib.image_window()\n",
    "# win.set_image(detector)\n",
    "# dlib.hit_enter_to_continue()\n",
    "\n",
    "detector = dlib.simple_object_detector('data/stop_sign_detector_output.svm')\n",
    "\n",
    "\n",
    "for testingPath in paths.list_images('data/sunflowers/sunflower_test/'):\n",
    "    # load the image and make predictions\n",
    "    image = cv2.imread(testingPath)\n",
    "    boxes = detector(cv2.cvtColor(image, cv2.COLOR_BGR2RGB))\n",
    "\n",
    "    # loop over the bounding boxes and draw them\n",
    "    for b in boxes:\n",
    "        (x, y, w, h) = (b.left(), b.top(), b.right(), b.bottom())\n",
    "        cv2.rectangle(image, (x, y), (w, h), (0, 255, 0), 2)\n",
    "\n",
    "    # show the image\n",
    "    plt.figure()\n",
    "    plt.imshow(image)\n",
    "#     cv2.imshow(\"Image\", image)\n",
    "#     cv2.waitKey(0)"
   ]
  },
  {
   "cell_type": "markdown",
   "metadata": {},
   "source": [
    "# [super] Content-Based Image Retrieval\n",
    "\n",
    "# 3.1: What is Content-Based Image Retrieval?\n",
    "\n",
    "\n",
    "The three types of image search engines.  \n",
    "Important terms such as feature extraction, feature vector, indexing, distance metrics, querying, and result set.  \n",
    "The 4 steps of building any CBIR system.  \n",
    "How to evaluate a CBIR system.  \n",
    "The difference between CBIR and machine learning.  \n",
    "\n",
    "precison = total_relevant/total_retrieved    \n",
    "recal = total_relevant/total_relevant_in_db  \n",
    "f-score =(2 x precison * recall) / (precision + recall)    \n"
   ]
  },
  {
   "cell_type": "markdown",
   "metadata": {},
   "source": [
    "# 3.2: Your first image search engine [project]\n"
   ]
  },
  {
   "cell_type": "code",
   "execution_count": 4,
   "metadata": {
    "collapsed": false
   },
   "outputs": [
    {
     "data": {
      "text/plain": [
       "<matplotlib.axes._subplots.AxesSubplot at 0x7f5c3d776f50>"
      ]
     },
     "execution_count": 4,
     "metadata": {},
     "output_type": "execute_result"
    },
    {
     "data": {
      "image/png": "[encoded data removed]",
      "text/plain": [
       "<matplotlib.figure.Figure at 0x7f5c3d7768d0>"
      ]
     },
     "metadata": {},
     "output_type": "display_data"
    }
   ],
   "source": [
    "pd.read_csv('projects/ImageSearchEngine_32/index.csv', header=None).iloc[300][1:].plot()\n",
    "#python search.py --index index.csv --dataset ../../data/ukbench --relevant ../../data/ukbench/relevant.json --query ../../data/ukbench/ukbench00302.jpg"
   ]
  },
  {
   "cell_type": "markdown",
   "metadata": {},
   "source": [
    "# 3.3 The 4 steps of building any image search engine [theory]\n",
    "\n"
   ]
  },
  {
   "cell_type": "markdown",
   "metadata": {},
   "source": [
    "# 3.3.1 Defining your image descriptor [theory]"
   ]
  },
  {
   "cell_type": "markdown",
   "metadata": {},
   "source": [
    "# 3.3.2 Feature extracting and indexing"
   ]
  },
  {
   "cell_type": "markdown",
   "metadata": {},
   "source": [
    "Different types of image descriptors:\n",
    "    \n",
    "- COLOR ( histograms, color statistics)  \n",
    "- Texture ( Harlick, Local Binary Patterns) \n",
    "- Shape  ( Zernike Moments, Hu Moments, HOG)\n",
    "\n",
    "Specialized data strucutres to store features:\n",
    "- kd-tree  \n",
    "- random projection forest  \n",
    "- inverted index  "
   ]
  },
  {
   "cell_type": "markdown",
   "metadata": {},
   "source": [
    "# 3.3.3 Defining your similarity metric\n"
   ]
  },
  {
   "cell_type": "code",
   "execution_count": 9,
   "metadata": {
    "collapsed": false
   },
   "outputs": [
    {
     "name": "stderr",
     "output_type": "stream",
     "text": [
      "/home/i008/anaconda2/lib/python2.7/site-packages/sklearn/utils/validation.py:386: DeprecationWarning: Passing 1d arrays as data is deprecated in 0.17 and willraise ValueError in 0.19. Reshape your data either using X.reshape(-1, 1) if your data has a single feature or X.reshape(1, -1) if it contains a single sample.\n",
      "  DeprecationWarning)\n",
      "/home/i008/anaconda2/lib/python2.7/site-packages/sklearn/utils/validation.py:386: DeprecationWarning: Passing 1d arrays as data is deprecated in 0.17 and willraise ValueError in 0.19. Reshape your data either using X.reshape(-1, 1) if your data has a single feature or X.reshape(1, -1) if it contains a single sample.\n",
      "  DeprecationWarning)\n",
      "/home/i008/anaconda2/lib/python2.7/site-packages/sklearn/utils/validation.py:386: DeprecationWarning: Passing 1d arrays as data is deprecated in 0.17 and willraise ValueError in 0.19. Reshape your data either using X.reshape(-1, 1) if your data has a single feature or X.reshape(1, -1) if it contains a single sample.\n",
      "  DeprecationWarning)\n",
      "/home/i008/anaconda2/lib/python2.7/site-packages/sklearn/utils/validation.py:386: DeprecationWarning: Passing 1d arrays as data is deprecated in 0.17 and willraise ValueError in 0.19. Reshape your data either using X.reshape(-1, 1) if your data has a single feature or X.reshape(1, -1) if it contains a single sample.\n",
      "  DeprecationWarning)\n",
      "/home/i008/anaconda2/lib/python2.7/site-packages/sklearn/utils/validation.py:386: DeprecationWarning: Passing 1d arrays as data is deprecated in 0.17 and willraise ValueError in 0.19. Reshape your data either using X.reshape(-1, 1) if your data has a single feature or X.reshape(1, -1) if it contains a single sample.\n",
      "  DeprecationWarning)\n",
      "/home/i008/anaconda2/lib/python2.7/site-packages/sklearn/utils/validation.py:386: DeprecationWarning: Passing 1d arrays as data is deprecated in 0.17 and willraise ValueError in 0.19. Reshape your data either using X.reshape(-1, 1) if your data has a single feature or X.reshape(1, -1) if it contains a single sample.\n",
      "  DeprecationWarning)\n"
     ]
    },
    {
     "data": {
      "text/plain": [
       "array([[ 0.5]])"
      ]
     },
     "execution_count": 9,
     "metadata": {},
     "output_type": "execute_result"
    }
   ],
   "source": [
    "from sklearn.metrics import euclidean_distances, hinge_loss\n",
    "A = [0.64, 0.13, 0.41, 0.29, 0.56, 0.99, 0.11, 0.30]\n",
    "B = [0.18, 0.87, 0.32, 0.71, 0.44, 0.27, 0.02, 0.41]\n",
    "\n",
    "\n",
    "euclidean_distances(A, B)\n",
    "A = [0.77, 0.43, 0.96, 0.92, 0.56, 0.65, 0.84, 0.21]\n",
    "B = [0.04, 0.96, 0.87, 0.98, 0.39, 0.78, 0.67, 0.33]\n",
    "hist_inter = lambda x,y: np.sum(np.minimum(x, y))\n",
    "hist_inter(A, B)\n",
    "\n",
    "A = np.array([0.16, 0.04, 0.12, 0.03, 0.14, 0.17, 0.06, 0.27])\n",
    "B = np.array([0.08, 0.12, 0.07, 0.13, 0.04, 0.22, 0.27, 0.08])\n",
    "\n",
    "from sklearn.metrics import pairwise_distances\n",
    "\n",
    "\n",
    "def chi2_distance(histA, histB, eps=1e-10):\n",
    "    return 0.5 * np.sum(((histA - histB) ** 2) / (histA + histB + eps))\n",
    "\n",
    "A = [0.81, 0.84, 0.31, 0.13, 0.96, 0.48, 0.58, 0.65]\n",
    "B = [0.82, 0.31, 0.50, 0.38, 0.74, 0.59, 0.62, 0.94]\n",
    "\n",
    "pairwise_distances(A, B, metric='cosine')\n",
    "\n",
    "A = [1, 1, 0, 1, 0, 1, 0, 1]\n",
    "B = [0, 0, 0, 0, 0, 0, 0, 1]\n",
    "\n",
    "pairwise_distances(A, B, metric='hamming')"
   ]
  },
  {
   "cell_type": "markdown",
   "metadata": {},
   "source": [
    "# 3.3.4: Searching [theory]\n"
   ]
  },
  {
   "cell_type": "markdown",
   "metadata": {},
   "source": [
    "inputy image - > image descriptor - > feature_vector - > search"
   ]
  },
  {
   "cell_type": "markdown",
   "metadata": {},
   "source": [
    "# [super] Image Classification and Machine Learning\n"
   ]
  },
  {
   "cell_type": "markdown",
   "metadata": {},
   "source": [
    "# 4.3 k-Nearest neighbor classifiation"
   ]
  },
  {
   "cell_type": "code",
   "execution_count": 14,
   "metadata": {
    "collapsed": false
   },
   "outputs": [
    {
     "name": "stdout",
     "output_type": "stream",
     "text": [
      "training data points: 808\n",
      "validation data points: 90\n",
      "testing data points: 899\n"
     ]
    }
   ],
   "source": [
    "mnist = datasets.load_digits()\n",
    " \n",
    "# take the MNIST data and construct the training and testing split, using 75% of the\n",
    "# data for training and 25% for testing\n",
    "(trainData, testData, trainLabels, testLabels) = train_test_split(np.array(mnist.data),\n",
    "    mnist.target, test_size=0.5, random_state=42)\n",
    " \n",
    "# now, let's take 10% of the training data and use that for validation\n",
    "(trainData, valData, trainLabels, valLabels) = train_test_split(trainData, trainLabels,\n",
    "    test_size=0.1, random_state=84)\n",
    " \n",
    "# show the sizes of each data split\n",
    "print(\"training data points: {}\".format(len(trainLabels)))\n",
    "print(\"validation data points: {}\".format(len(valLabels)))\n",
    "print(\"testing data points: {}\".format(len(testLabels)))"
   ]
  },
  {
   "cell_type": "code",
   "execution_count": 15,
   "metadata": {
    "collapsed": false
   },
   "outputs": [
    {
     "name": "stdout",
     "output_type": "stream",
     "text": [
      "k=1, accuracy=97.78%\n",
      "k=3, accuracy=98.89%\n",
      "k=5, accuracy=97.78%\n",
      "k=7, accuracy=97.78%\n",
      "k=9, accuracy=97.78%\n",
      "k=11, accuracy=98.89%\n",
      "k=13, accuracy=97.78%\n",
      "k=15, accuracy=96.67%\n",
      "k=17, accuracy=95.56%\n",
      "k=19, accuracy=96.67%\n",
      "k=21, accuracy=96.67%\n",
      "k=23, accuracy=95.56%\n",
      "k=25, accuracy=95.56%\n",
      "k=27, accuracy=95.56%\n",
      "k=29, accuracy=95.56%\n",
      "k=3 achieved highest accuracy of 98.89% on validation data\n"
     ]
    }
   ],
   "source": [
    "# initialize the values of k for our k-Nearest Neighbor classifier along with the\n",
    "# list of accuracies for each value of k\n",
    "kVals = range(1, 30, 2)\n",
    "accuracies = []\n",
    " \n",
    "# loop over various values of `k` for the k-Nearest Neighbor classifier\n",
    "for k in xrange(1, 30, 2):\n",
    "    # train the k-Nearest Neighbor classifier with the current value of `k`\n",
    "    model = KNeighborsClassifier(n_neighbors=k)\n",
    "    model.fit(trainData, trainLabels)\n",
    "\n",
    "    # evaluate the model and update the accuracies list\n",
    "    score = model.score(valData, valLabels)\n",
    "    print(\"k=%d, accuracy=%.2f%%\" % (k, score * 100))\n",
    "    accuracies.append(score)\n",
    "\n",
    "# find the value of k that has the largest accuracy\n",
    "i = np.argmax(accuracies)\n",
    "print(\"k=%d achieved highest accuracy of %.2f%% on validation data\" % (kVals[i],\n",
    "    accuracies[i] * 100))"
   ]
  },
  {
   "cell_type": "code",
   "execution_count": 16,
   "metadata": {
    "collapsed": false
   },
   "outputs": [
    {
     "name": "stdout",
     "output_type": "stream",
     "text": [
      "EVALUATION ON TESTING DATA\n",
      "             precision    recall  f1-score   support\n",
      "\n",
      "          0       1.00      1.00      1.00        82\n",
      "          1       0.97      1.00      0.98        89\n",
      "          2       0.99      1.00      0.99        83\n",
      "          3       0.99      0.96      0.97        93\n",
      "          4       0.99      0.99      0.99        93\n",
      "          5       0.99      0.98      0.98        99\n",
      "          6       1.00      1.00      1.00        98\n",
      "          7       0.96      0.99      0.97        87\n",
      "          8       0.99      0.98      0.98        83\n",
      "          9       0.98      0.96      0.97        92\n",
      "\n",
      "avg / total       0.98      0.98      0.98       899\n",
      "\n"
     ]
    }
   ],
   "source": [
    "model = KNeighborsClassifier(n_neighbors=kVals[i])\n",
    "model.fit(trainData, trainLabels)\n",
    "predictions = model.predict(testData)\n",
    " \n",
    "# show a final classification report demonstrating the accuracy of the classifier\n",
    "# for each of the digits\n",
    "print(\"EVALUATION ON TESTING DATA\")\n",
    "print(classification_report(testLabels, predictions))"
   ]
  },
  {
   "cell_type": "code",
   "execution_count": 17,
   "metadata": {
    "collapsed": false,
    "scrolled": true
   },
   "outputs": [
    {
     "name": "stderr",
     "output_type": "stream",
     "text": [
      "/home/i008/anaconda2/lib/python2.7/site-packages/sklearn/utils/validation.py:386: DeprecationWarning: Passing 1d arrays as data is deprecated in 0.17 and willraise ValueError in 0.19. Reshape your data either using X.reshape(-1, 1) if your data has a single feature or X.reshape(1, -1) if it contains a single sample.\n",
      "  DeprecationWarning)\n",
      "/home/i008/anaconda2/lib/python2.7/site-packages/sklearn/utils/validation.py:386: DeprecationWarning: Passing 1d arrays as data is deprecated in 0.17 and willraise ValueError in 0.19. Reshape your data either using X.reshape(-1, 1) if your data has a single feature or X.reshape(1, -1) if it contains a single sample.\n",
      "  DeprecationWarning)\n",
      "/home/i008/anaconda2/lib/python2.7/site-packages/sklearn/utils/validation.py:386: DeprecationWarning: Passing 1d arrays as data is deprecated in 0.17 and willraise ValueError in 0.19. Reshape your data either using X.reshape(-1, 1) if your data has a single feature or X.reshape(1, -1) if it contains a single sample.\n",
      "  DeprecationWarning)\n",
      "/home/i008/anaconda2/lib/python2.7/site-packages/sklearn/utils/validation.py:386: DeprecationWarning: Passing 1d arrays as data is deprecated in 0.17 and willraise ValueError in 0.19. Reshape your data either using X.reshape(-1, 1) if your data has a single feature or X.reshape(1, -1) if it contains a single sample.\n",
      "  DeprecationWarning)\n"
     ]
    },
    {
     "name": "stdout",
     "output_type": "stream",
     "text": [
      "I think that digit is: 7\n",
      "I think that digit is: 9\n",
      "I think that digit is: 3\n",
      "I think that digit is: 3\n"
     ]
    },
    {
     "name": "stderr",
     "output_type": "stream",
     "text": [
      "/home/i008/anaconda2/lib/python2.7/site-packages/sklearn/utils/validation.py:386: DeprecationWarning: Passing 1d arrays as data is deprecated in 0.17 and willraise ValueError in 0.19. Reshape your data either using X.reshape(-1, 1) if your data has a single feature or X.reshape(1, -1) if it contains a single sample.\n",
      "  DeprecationWarning)\n"
     ]
    },
    {
     "name": "stdout",
     "output_type": "stream",
     "text": [
      "I think that digit is: 8\n"
     ]
    },
    {
     "data": {
      "image/png": "[encoded data removed]",
      "text/plain": [
       "<matplotlib.figure.Figure at 0x7f5bf6e28650>"
      ]
     },
     "metadata": {},
     "output_type": "display_data"
    },
    {
     "data": {
      "image/png": "[encoded data removed]",
      "text/plain": [
       "<matplotlib.figure.Figure at 0x7f5bf6e6d490>"
      ]
     },
     "metadata": {},
     "output_type": "display_data"
    },
    {
     "data": {
      "image/png": "[encoded data removed]",
      "text/plain": [
       "<matplotlib.figure.Figure at 0x7f5bf6f99bd0>"
      ]
     },
     "metadata": {},
     "output_type": "display_data"
    },
    {
     "data": {
      "image/png": "[encoded data removed]",
      "text/plain": [
       "<matplotlib.figure.Figure at 0x7f5bf6c4b410>"
      ]
     },
     "metadata": {},
     "output_type": "display_data"
    },
    {
     "data": {
      "image/png": "[encoded data removed]",
      "text/plain": [
       "<matplotlib.figure.Figure at 0x7f5bf6c30650>"
      ]
     },
     "metadata": {},
     "output_type": "display_data"
    }
   ],
   "source": [
    "# loop over a few random digits\n",
    "for i in np.random.randint(0, high=len(testLabels), size=(5,)):\n",
    "    # grab the image and classify it\n",
    "    image = testData[i]\n",
    "    prediction = model.predict(image)[0]\n",
    "\n",
    "    # convert the image for a 64-dim array to an 8 x 8 image compatible with OpenCV,\n",
    "    # then resize it to 32 x 32 pixels so we can see it better\n",
    "    image = image.reshape((8, 8)).astype(\"uint8\")\n",
    "    image = exposure.rescale_intensity(image, out_range=(0, 255))\n",
    "    image = imutils.resize(image, width=32, inter=cv2.INTER_CUBIC)\n",
    "\n",
    "    # show the prediction\n",
    "    plt.figure()\n",
    "    print(\"I think that digit is: {}\".format(prediction))\n",
    "    plt.imshow(image,cmap='gray')"
   ]
  },
  {
   "cell_type": "markdown",
   "metadata": {},
   "source": [
    "# 4.4.1 Logistic regression"
   ]
  },
  {
   "cell_type": "code",
   "execution_count": null,
   "metadata": {
    "collapsed": true
   },
   "outputs": [],
   "source": [
    "# import the necessary packages\n",
    "import matplotlib.pyplot as plt\n",
    "import numpy as np\n",
    "%matplotlib inline\n",
    "# plot the step function\n",
    "plt.style.use(\"ggplot\")\n",
    "plt.figure()\n",
    "plt.title(\"Step Function\")\n",
    "plt.plot([0.0, 2.3, 2.3, 5.0],[0.0, 0.0 ,1.0 ,1.0])\n",
    "plt.ylim(-0.1,1.1)\n",
    "plt.show()\n",
    "\n",
    "# plot the first sigmoid function\n",
    "x = np.arange(-6, 6, 0.1)\n",
    "y = 1 / (1 + (np.e ** (-x)))\n",
    "plt.figure()\n",
    "plt.plot(x, y)\n",
    "plt.title(\"Sigmoid (Zoomed In)\")\n",
    "plt.xlim([-6, 6])\n",
    "plt.show()\n",
    "\n",
    "# plot the second sigmoid function\n",
    "x = np.arange(-50, 50, 0.1)\n",
    "y = 1 / (1 + (np.e ** (-x)))\n",
    "plt.figure()\n",
    "plt.plot(x, y)\n",
    "plt.title(\"Sigmoid (Zoomed Out)\")\n",
    "plt.xlim([-50, 50])\n",
    "plt.show()"
   ]
  },
  {
   "cell_type": "code",
   "execution_count": null,
   "metadata": {
    "collapsed": true
   },
   "outputs": [],
   "source": [
    "# USAGE\n",
    "# python train_and_test.py\n",
    "\n",
    "# import the necessary packages\n",
    "from __future__ import print_function\n",
    "from sklearn.cross_validation import train_test_split\n",
    "from sklearn.metrics import classification_report\n",
    "from sklearn.linear_model import LogisticRegression\n",
    "from sklearn import datasets\n",
    "import numpy as np\n",
    "import imutils\n",
    "import cv2\n",
    "\n",
    "# grab a small subset of the Labeled Faces in the Wild dataset, then construct\n",
    "# the training and testing splits (note: if this is your first time running this\n",
    "# script it may take awhile for the dataset to download -- but once it has downloaded\n",
    "# the data will be cached locally and subsequent runs will be substantially faster)\n",
    "print(\"[INFO] fetching data...\")\n",
    "dataset = datasets.fetch_lfw_people(min_faces_per_person=70, funneled=True, resize=0.5)\n",
    "(trainData, testData, trainLabels, testLabels) = train_test_split(dataset.data, dataset.target,\n",
    "\ttest_size=0.25, random_state=42)\n",
    "\n",
    "# train the model and show the classification report\n",
    "print(\"[INFO] training model...\")\n",
    "model = LogisticRegression()\n",
    "model.fit(trainData, trainLabels)\n",
    "print(classification_report(testLabels, model.predict(testData),\n",
    "    target_names=dataset.target_names))\n",
    "\n",
    "# # loop over a few random images\n",
    "# for i in np.random.randint(0, high=testLabels.shape[0], size=(10,)):\n",
    "#     # grab the image and the name, then resize the image so we can better see it\n",
    "#     image = testData[i].reshape((62, 47))\n",
    "#     name = dataset.target_names[testLabels[i]]\n",
    "#     image = imutils.resize(image.astype(\"uint8\"), width=image.shape[1] * 3, inter=cv2.INTER_CUBIC)\n",
    "\n",
    "#     # classify the face\n",
    "#     prediction = model.predict(testData[i])[0]\n",
    "#     prediction = dataset.target_names[prediction]\n",
    "#     print(\"[PREDICTION] predicted: {}, actual: {}\".format(prediction, name))\n",
    "#     cv2.imshow(\"Face\", image)\n",
    "#     cv2.waitKey(0)"
   ]
  },
  {
   "cell_type": "markdown",
   "metadata": {},
   "source": [
    "# 4.4.2 SVM"
   ]
  },
  {
   "cell_type": "code",
   "execution_count": 19,
   "metadata": {
    "collapsed": false
   },
   "outputs": [
    {
     "name": "stdout",
     "output_type": "stream",
     "text": [
      "[RESULTS] SVM w/ Linear Kernel\n",
      "             precision    recall  f1-score   support\n",
      "\n",
      "         -1       0.43      0.52      0.47        44\n",
      "          1       0.54      0.45      0.49        56\n",
      "\n",
      "avg / total       0.49      0.48      0.48       100\n",
      "\n",
      "\n",
      "[RESULTS] SVM w/ Polynomial Kernel\n",
      "             precision    recall  f1-score   support\n",
      "\n",
      "         -1       1.00      1.00      1.00        44\n",
      "          1       1.00      1.00      1.00        56\n",
      "\n",
      "avg / total       1.00      1.00      1.00       100\n",
      "\n"
     ]
    }
   ],
   "source": [
    "# USAGE\n",
    "# python classify.py\n",
    "\n",
    "# import the necessary packages\n",
    "from __future__ import print_function\n",
    "from sklearn.cross_validation import train_test_split\n",
    "from sklearn.metrics import classification_report\n",
    "from sklearn.svm import SVC\n",
    "import numpy as np\n",
    "\n",
    "# generate the XOR data\n",
    "tl = np.random.uniform(size=(100, 2)) + np.array([-2.0, 2.0])\n",
    "tr = np.random.uniform(size=(100, 2)) + np.array([2.0, 2.0])\n",
    "br = np.random.uniform(size=(100, 2)) + np.array([2.0, -2.0])\n",
    "bl = np.random.uniform(size=(100, 2)) + np.array([-2.0, -2.0])\n",
    "X = np.vstack([tl, tr, br, bl])\n",
    "y = np.hstack([[1] * len(tl), [-1] * len(tr), [1] * len(br), [-1] * len(bl)])\n",
    "\n",
    "# construct the training and testing split by taking 75% of the data for training\n",
    "# and 25% for testing\n",
    "(trainData, testData, trainLabels, testLabels) = train_test_split(X, y, test_size=0.25,\n",
    "\trandom_state=42)\n",
    "\n",
    "# train the linear SVM model, evaluate it, and show the results\n",
    "print(\"[RESULTS] SVM w/ Linear Kernel\")\n",
    "model = SVC(kernel=\"linear\")\n",
    "model.fit(X, y)\n",
    "print(classification_report(testLabels, model.predict(testData)))\n",
    "print(\"\")\n",
    "\n",
    "# train the SVM + poly. kernel model, evaluate it, and show the results\n",
    "print(\"[RESULTS] SVM w/ Polynomial Kernel\")\n",
    "model = SVC(kernel=\"poly\", degree=2, coef0=1)\n",
    "model.fit(X, y)\n",
    "print(classification_report(testLabels, model.predict(testData)))"
   ]
  },
  {
   "cell_type": "code",
   "execution_count": 20,
   "metadata": {
    "collapsed": false
   },
   "outputs": [
    {
     "name": "stderr",
     "output_type": "stream",
     "text": [
      "/home/i008/anaconda2/lib/python2.7/site-packages/matplotlib/__init__.py:872: UserWarning: axes.color_cycle is deprecated and replaced with axes.prop_cycle; please use the latter.\n",
      "  warnings.warn(self.msg_depr % (key, alt_key))\n",
      "/home/i008/anaconda2/lib/python2.7/site-packages/matplotlib/__init__.py:892: UserWarning: axes.color_cycle is deprecated and replaced with axes.prop_cycle; please use the latter.\n",
      "  warnings.warn(self.msg_depr % (key, alt_key))\n"
     ]
    },
    {
     "data": {
      "text/plain": [
       "<seaborn.axisgrid.FacetGrid at 0x7f5bf6a33d50>"
      ]
     },
     "execution_count": 20,
     "metadata": {},
     "output_type": "execute_result"
    },
    {
     "data": {
      "image/png": "[encoded data removed]",
      "text/plain": [
       "<matplotlib.figure.Figure at 0x7f5bf4b888d0>"
      ]
     },
     "metadata": {},
     "output_type": "display_data"
    }
   ],
   "source": [
    "import seaborn as sns\n",
    "\n",
    "df = pd.DataFrame(X)\n",
    "df['y'] = pd.DataFrame(y)\n",
    "df.columns = ['d1','d2','y']\n",
    "sns.lmplot('d1','d2',df,'y', fit_reg=True)"
   ]
  },
  {
   "cell_type": "markdown",
   "metadata": {},
   "source": [
    "# 4.4.3 DECISION TREES"
   ]
  },
  {
   "cell_type": "code",
   "execution_count": null,
   "metadata": {
    "collapsed": true
   },
   "outputs": [],
   "source": [
    "from sklearn.datasets import load_iris\n",
    "df = load_iris()\n",
    "df.keys()"
   ]
  },
  {
   "cell_type": "markdown",
   "metadata": {},
   "source": [
    "# 4.4.4 Random Forrests"
   ]
  },
  {
   "cell_type": "markdown",
   "metadata": {},
   "source": [
    "# [super] Automatic licencse plates recognition\n",
    "# 6.2 The problem with ANPR datasets [theory]\n",
    "# 6.3: Localizing license plates in images [project]"
   ]
  },
  {
   "cell_type": "markdown",
   "metadata": {},
   "source": [
    "# [super] Image Descriptors\n",
    "\n",
    "# 10.9: Understanding local features [theory]\n",
    "# 10.10: Keypoint detectors [theory]\n"
   ]
  },
  {
   "cell_type": "markdown",
   "metadata": {},
   "source": [
    "# 10.10.1: FAST\n"
   ]
  },
  {
   "cell_type": "code",
   "execution_count": 23,
   "metadata": {
    "collapsed": true
   },
   "outputs": [],
   "source": [
    "image = cv2.imread(\"data/grand_central_terminal.png\")\n",
    "orig = image.copy()\n",
    "gray = cv2.cvtColor(image, cv2.COLOR_BGR2GRAY)\n",
    "detector_fast = cv2.FeatureDetector_create(\"FAST\")\n",
    "kps = detector_fast.detect(gray)\n",
    "\n",
    "print \"no of keypoints {}\".format(len(kps))\n",
    "for kp in kps:\n",
    "    r = int(0.5 * kp.size)\n",
    "    (x, y ) = np.int0(kp.pt)\n",
    "    cv2.circle(image, (x, y), r, (0, 255, 255), 2)\n",
    "\n",
    "    \n",
    "plt.figure()\n",
    "plt.imshow(image)"
   ]
  },
  {
   "cell_type": "markdown",
   "metadata": {},
   "source": [
    "# 10.10.2: Harris\n"
   ]
  },
  {
   "cell_type": "code",
   "execution_count": 25,
   "metadata": {
    "collapsed": false
   },
   "outputs": [
    {
     "ename": "SyntaxError",
     "evalue": "invalid syntax (<ipython-input-25-bd34537f6120>, line 4)",
     "output_type": "error",
     "traceback": [
      "\u001b[1;36m  File \u001b[1;32m\"<ipython-input-25-bd34537f6120>\"\u001b[1;36m, line \u001b[1;32m4\u001b[0m\n\u001b[1;33m    print \"no of keypoints {}\".format(len(kps))\u001b[0m\n\u001b[1;37m                             ^\u001b[0m\n\u001b[1;31mSyntaxError\u001b[0m\u001b[1;31m:\u001b[0m invalid syntax\n"
     ]
    }
   ],
   "source": [
    "detector_harris = cv2.FeatureDetector_create(\"HARRIS\")\n",
    "kps = detector_harris.detect(gray)\n",
    "\n",
    "print \"no of keypoints {}\".format(len(kps))\n",
    "for kp in kps:\n",
    "\n",
    "    r = int(0.1 * kp.size)\n",
    "    (x, y ) = np.int0(kp.pt)\n",
    "    cv2.circle(image, (x, y), r, (0, 255, 255), 2)\n",
    "\n",
    "    \n",
    "plt.figure()\n",
    "plt.imshow(image)"
   ]
  },
  {
   "cell_type": "markdown",
   "metadata": {},
   "source": [
    "# 10.10.3 GFTT"
   ]
  },
  {
   "cell_type": "code",
   "execution_count": 26,
   "metadata": {
    "collapsed": false
   },
   "outputs": [
    {
     "ename": "error",
     "evalue": "/home/i008/opencv/opencv-2.4.10/modules/imgproc/src/color.cpp:3739: error: (-215) scn == 3 || scn == 4 in function cvtColor\n",
     "output_type": "error",
     "traceback": [
      "\u001b[1;31m---------------------------------------------------------------------------\u001b[0m",
      "\u001b[1;31merror\u001b[0m                                     Traceback (most recent call last)",
      "\u001b[1;32m<ipython-input-26-55392523f847>\u001b[0m in \u001b[0;36m<module>\u001b[1;34m()\u001b[0m\n\u001b[0;32m      5\u001b[0m \u001b[1;31m# load the image and convert it to grayscale\u001b[0m\u001b[1;33m\u001b[0m\u001b[1;33m\u001b[0m\u001b[0m\n\u001b[0;32m      6\u001b[0m \u001b[1;31m# image = cv2.imread(\"next.png\")\u001b[0m\u001b[1;33m\u001b[0m\u001b[1;33m\u001b[0m\u001b[0m\n\u001b[1;32m----> 7\u001b[1;33m \u001b[0mgray\u001b[0m \u001b[1;33m=\u001b[0m \u001b[0mcv2\u001b[0m\u001b[1;33m.\u001b[0m\u001b[0mcvtColor\u001b[0m\u001b[1;33m(\u001b[0m\u001b[0mimage\u001b[0m\u001b[1;33m,\u001b[0m \u001b[0mcv2\u001b[0m\u001b[1;33m.\u001b[0m\u001b[0mCOLOR_BGR2GRAY\u001b[0m\u001b[1;33m)\u001b[0m\u001b[1;33m\u001b[0m\u001b[0m\n\u001b[0m\u001b[0;32m      8\u001b[0m \u001b[1;33m\u001b[0m\u001b[0m\n\u001b[0;32m      9\u001b[0m \u001b[1;31m# detect GFTT keypoints in the image\u001b[0m\u001b[1;33m\u001b[0m\u001b[1;33m\u001b[0m\u001b[0m\n",
      "\u001b[1;31merror\u001b[0m: /home/i008/opencv/opencv-2.4.10/modules/imgproc/src/color.cpp:3739: error: (-215) scn == 3 || scn == 4 in function cvtColor\n"
     ]
    }
   ],
   "source": [
    "# import the necessary packages\n",
    "import numpy as np\n",
    "import cv2\n",
    "\n",
    "# load the image and convert it to grayscale\n",
    "# image = cv2.imread(\"next.png\")\n",
    "gray = cv2.cvtColor(image, cv2.COLOR_BGR2GRAY)\n",
    "\n",
    "# detect GFTT keypoints in the image\n",
    "detector = cv2.FeatureDetector_create(\"GFTT\")\n",
    "kps = detector.detect(gray)\n",
    "print(\"# of keypoints: {}\".format(len(kps)))\n",
    "\n",
    "# loop over the keypoints and draw them\n",
    "for kp in kps:\n",
    "    r = int(0.5 * kp.size)\n",
    "    (x, y) = np.int0(kp.pt)\n",
    "    cv2.circle(image, (x, y), r, (0, 255, 255), 2)\n",
    "\n",
    "# show the image\n",
    "plt.figure()\n",
    "plt.imshow(image)\n"
   ]
  },
  {
   "cell_type": "markdown",
   "metadata": {},
   "source": [
    "# 10.10.4: DoG\n"
   ]
  },
  {
   "cell_type": "code",
   "execution_count": null,
   "metadata": {
    "collapsed": true
   },
   "outputs": [],
   "source": [
    "image = cv2.imread(\"data/grand_central_terminal.png\")\n",
    "orig = image.copy()\n",
    "gray = cv2.cvtColor(image, cv2.COLOR_BGR2GRAY)\n",
    " \n",
    "# detect Difference of Gaussian keypoints in the image\n",
    "detector = cv2.FeatureDetector_create(\"SIFT\")\n",
    "kps = detector.detect(gray)\n",
    "print(\"# of keypoints: {}\".format(len(kps)))\n",
    " \n",
    "# loop over the keypoints and draw them\n",
    "for kp in kps:\n",
    "    r = int(0.5 * kp.size)\n",
    "    (x, y) = np.int0(kp.pt)\n",
    "    cv2.circle(image, (x, y), r, (0, 255, 255), 2)\n",
    "    \n",
    "plt.figure()\n",
    "plt.imshow(image)\n",
    "plt.figure()\n",
    "plt.imshow(orig)"
   ]
  },
  {
   "cell_type": "markdown",
   "metadata": {},
   "source": [
    "# TODO \n",
    "Raspberry Pi Projects  \n",
    "9.2: Setting up your Raspberry Pi Camera  \n",
    "9.3: Accessing the Raspberry Pi camera and video stream  \n",
    "\n",
    "10.10.5: Fast Hessian  \n",
    "10.10.6: STAR  \n",
    "10.10.7: MSER  \n",
    "10.10.8: Dense  \n",
    "10.10.9: BRISK  \n",
    "10.10.10: ORB \n",
    "10.11: Local invariant descriptors  \n",
    "10.11.1: SIFT  \n",
    "10.11.2: RootSIFT  \n",
    "10.11.3: SURF   \n",
    "10.11.4: Real-valued feature extraction and matching  "
   ]
  },
  {
   "cell_type": "markdown",
   "metadata": {},
   "source": [
    "# 11.2: Face detection in images [todo]\n"
   ]
  },
  {
   "cell_type": "markdown",
   "metadata": {},
   "source": [
    "# 11.3: Face detection in video [todo]"
   ]
  },
  {
   "cell_type": "code",
   "execution_count": null,
   "metadata": {
    "collapsed": true
   },
   "outputs": [],
   "source": []
  }
 ],
 "metadata": {
  "kernelspec": {
   "display_name": "Python 2",
   "language": "python",
   "name": "python2"
  },
  "language_info": {
   "codemirror_mode": {
    "name": "ipython",
    "version": 2
   },
   "file_extension": ".py",
   "mimetype": "text/x-python",
   "name": "python",
   "nbconvert_exporter": "python",
   "pygments_lexer": "ipython2",
   "version": "2.7.11"
  }
 },
 "nbformat": 4,
 "nbformat_minor": 0
}
